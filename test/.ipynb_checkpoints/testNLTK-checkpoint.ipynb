{
 "cells": [
  {
   "cell_type": "code",
   "execution_count": 1,
   "metadata": {},
   "outputs": [
    {
     "name": "stdout",
     "output_type": "stream",
     "text": [
      "\n",
      "** done **\n"
     ]
    }
   ],
   "source": [
    "import pyodbc\n",
    "import string\n",
    "import re\n",
    "from piLang.piLang.SQLTools import SQLTools\n",
    "from prettytable import PrettyTable\n",
    "import time\n",
    "from piLang.piLang.TextSearch import ICD10TextSearch\n",
    "\n",
    "cnxn = pyodbc.connect('Driver={ODBC Driver 13 for SQL Server}; server=localhost\\SQLEXPRESS; database=ICD10; uid=Shane; password=; trusted_connection=Yes')\n",
    "cursor = cnxn.cursor()\n",
    "cursor.execute(\"SELECT [code_id] as code,[ascii_desc] as description FROM [ICD10].[dbo].[disease] WHERE inactive='' UNION SELECT [Code_id] as code,[ascii_desc] as description FROM [ICD10].[dbo].[interven] WHERE inactive = ''\")\n",
    "               \n",
    "t = SQLTools(cursor)\n",
    "cnxn.close()\n",
    "cnxn = None\n",
    "\n",
    "searchstr = list()\n",
    "\n",
    "\"\"\"\n",
    "searchstr.append(\" CROHNs DISEASE\")\n",
    "searchstr.append(\"Graves disease - Previously on PTU\")\n",
    "searchstr.append(\"BILATERAL SALPINGECTOMY\")\n",
    "searchstr.append(\"ITP - Platelet transfusion required if below 30\")\n",
    "searchstr.append(\"atrial septal defect has cardiologist input\")\n",
    "searchstr.append(\"white coat hypertension.  Seen by a cardiologist in 2010\")\n",
    "searchstr.append(\"nodules on the thyroid\")\n",
    "searchstr.append(\"Total Thyroidectomy for Goitre and nodules\")\n",
    "searchstr.append(\"meconium at birth then no bowel motion for 66hrs. Xray nad\")\n",
    "\"\"\"\n",
    "\n",
    "with open(\"C:\\\\Users\\Shane\\\\Desktop\\\\text.txt\", \"r\") as ins:\n",
    "    for line in ins:\n",
    "        searchstr.append(line.strip().replace(\"\\r\",\"\").replace(\",\",\"\"))\n",
    "\n",
    "\n",
    "t = ICD10TextSearch(t.rs)\n",
    "\n",
    "d=dict()\n",
    "pt = PrettyTable()\n",
    "x=0\n",
    "\n",
    "for s in searchstr:\n",
    "    d[x]=[s,t.match(s)]\n",
    "    x+=1\n",
    "\n",
    "pt.field_names = [\"Text\",\"Result\"]\n",
    "pt.align[\"Text\"]=\"l\"\n",
    "pt.align[\"Result\"]=\"l\"\n",
    "\n",
    "for i in d:\n",
    "    pt.add_row([f for f in d[i]])\n",
    "\n",
    "#print(pt)\n",
    "with open(\"C:\\\\Users\\Shane\\\\Desktop\\\\result.txt\", 'w') as w:\n",
    "    w.write(str(pt))\n",
    "    \n",
    "print(\"\\n** done **\")"
   ]
  },
  {
   "cell_type": "raw",
   "metadata": {},
   "source": [
    " \n",
    " "
   ]
  },
  {
   "cell_type": "code",
   "execution_count": null,
   "metadata": {},
   "outputs": [],
   "source": []
  },
  {
   "cell_type": "code",
   "execution_count": null,
   "metadata": {},
   "outputs": [],
   "source": []
  }
 ],
 "metadata": {
  "kernelspec": {
   "display_name": "Python 3",
   "language": "python",
   "name": "python3"
  },
  "language_info": {
   "codemirror_mode": {
    "name": "ipython",
    "version": 3
   },
   "file_extension": ".py",
   "mimetype": "text/x-python",
   "name": "python",
   "nbconvert_exporter": "python",
   "pygments_lexer": "ipython3",
   "version": "3.6.8"
  }
 },
 "nbformat": 4,
 "nbformat_minor": 2
}
