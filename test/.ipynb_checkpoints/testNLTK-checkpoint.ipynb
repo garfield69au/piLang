{
 "cells": [
  {
   "cell_type": "code",
   "execution_count": 3,
   "metadata": {},
   "outputs": [
    {
     "ename": "Exception",
     "evalue": "Row has incorrect number of values, (actual) 2!=4 (expected)",
     "output_type": "error",
     "traceback": [
      "\u001b[1;31m---------------------------------------------------------------------------\u001b[0m",
      "\u001b[1;31mException\u001b[0m                                 Traceback (most recent call last)",
      "\u001b[1;32m<ipython-input-3-fa2c31524d84>\u001b[0m in \u001b[0;36m<module>\u001b[1;34m()\u001b[0m\n\u001b[0;32m     46\u001b[0m \u001b[1;33m\u001b[0m\u001b[0m\n\u001b[0;32m     47\u001b[0m \u001b[1;32mfor\u001b[0m \u001b[0mi\u001b[0m \u001b[1;32min\u001b[0m \u001b[0md\u001b[0m\u001b[1;33m:\u001b[0m\u001b[1;33m\u001b[0m\u001b[1;33m\u001b[0m\u001b[0m\n\u001b[1;32m---> 48\u001b[1;33m     \u001b[0mpt\u001b[0m\u001b[1;33m.\u001b[0m\u001b[0madd_row\u001b[0m\u001b[1;33m(\u001b[0m\u001b[1;33m[\u001b[0m\u001b[0mf\u001b[0m \u001b[1;32mfor\u001b[0m \u001b[0mf\u001b[0m \u001b[1;32min\u001b[0m \u001b[0md\u001b[0m\u001b[1;33m[\u001b[0m\u001b[0mi\u001b[0m\u001b[1;33m]\u001b[0m\u001b[1;33m]\u001b[0m\u001b[1;33m)\u001b[0m\u001b[1;33m\u001b[0m\u001b[1;33m\u001b[0m\u001b[0m\n\u001b[0m\u001b[0;32m     49\u001b[0m \u001b[1;33m\u001b[0m\u001b[0m\n\u001b[0;32m     50\u001b[0m \u001b[0mprint\u001b[0m\u001b[1;33m(\u001b[0m\u001b[0mpt\u001b[0m\u001b[1;33m)\u001b[0m\u001b[1;33m\u001b[0m\u001b[1;33m\u001b[0m\u001b[0m\n",
      "\u001b[1;32m~\\Anaconda3\\lib\\site-packages\\prettytable.py\u001b[0m in \u001b[0;36madd_row\u001b[1;34m(self, row)\u001b[0m\n\u001b[0;32m    816\u001b[0m \u001b[1;33m\u001b[0m\u001b[0m\n\u001b[0;32m    817\u001b[0m         \u001b[1;32mif\u001b[0m \u001b[0mself\u001b[0m\u001b[1;33m.\u001b[0m\u001b[0m_field_names\u001b[0m \u001b[1;32mand\u001b[0m \u001b[0mlen\u001b[0m\u001b[1;33m(\u001b[0m\u001b[0mrow\u001b[0m\u001b[1;33m)\u001b[0m \u001b[1;33m!=\u001b[0m \u001b[0mlen\u001b[0m\u001b[1;33m(\u001b[0m\u001b[0mself\u001b[0m\u001b[1;33m.\u001b[0m\u001b[0m_field_names\u001b[0m\u001b[1;33m)\u001b[0m\u001b[1;33m:\u001b[0m\u001b[1;33m\u001b[0m\u001b[1;33m\u001b[0m\u001b[0m\n\u001b[1;32m--> 818\u001b[1;33m             \u001b[1;32mraise\u001b[0m \u001b[0mException\u001b[0m\u001b[1;33m(\u001b[0m\u001b[1;34m\"Row has incorrect number of values, (actual) %d!=%d (expected)\"\u001b[0m \u001b[1;33m%\u001b[0m\u001b[1;33m(\u001b[0m\u001b[0mlen\u001b[0m\u001b[1;33m(\u001b[0m\u001b[0mrow\u001b[0m\u001b[1;33m)\u001b[0m\u001b[1;33m,\u001b[0m\u001b[0mlen\u001b[0m\u001b[1;33m(\u001b[0m\u001b[0mself\u001b[0m\u001b[1;33m.\u001b[0m\u001b[0m_field_names\u001b[0m\u001b[1;33m)\u001b[0m\u001b[1;33m)\u001b[0m\u001b[1;33m)\u001b[0m\u001b[1;33m\u001b[0m\u001b[1;33m\u001b[0m\u001b[0m\n\u001b[0m\u001b[0;32m    819\u001b[0m         \u001b[1;32mif\u001b[0m \u001b[1;32mnot\u001b[0m \u001b[0mself\u001b[0m\u001b[1;33m.\u001b[0m\u001b[0m_field_names\u001b[0m\u001b[1;33m:\u001b[0m\u001b[1;33m\u001b[0m\u001b[1;33m\u001b[0m\u001b[0m\n\u001b[0;32m    820\u001b[0m             \u001b[0mself\u001b[0m\u001b[1;33m.\u001b[0m\u001b[0mfield_names\u001b[0m \u001b[1;33m=\u001b[0m \u001b[1;33m[\u001b[0m\u001b[1;33m(\u001b[0m\u001b[1;34m\"Field %d\"\u001b[0m \u001b[1;33m%\u001b[0m \u001b[1;33m(\u001b[0m\u001b[0mn\u001b[0m\u001b[1;33m+\u001b[0m\u001b[1;36m1\u001b[0m\u001b[1;33m)\u001b[0m\u001b[1;33m)\u001b[0m \u001b[1;32mfor\u001b[0m \u001b[0mn\u001b[0m \u001b[1;32min\u001b[0m \u001b[0mrange\u001b[0m\u001b[1;33m(\u001b[0m\u001b[1;36m0\u001b[0m\u001b[1;33m,\u001b[0m\u001b[0mlen\u001b[0m\u001b[1;33m(\u001b[0m\u001b[0mrow\u001b[0m\u001b[1;33m)\u001b[0m\u001b[1;33m)\u001b[0m\u001b[1;33m]\u001b[0m\u001b[1;33m\u001b[0m\u001b[1;33m\u001b[0m\u001b[0m\n",
      "\u001b[1;31mException\u001b[0m: Row has incorrect number of values, (actual) 2!=4 (expected)"
     ]
    }
   ],
   "source": [
    "import pyodbc\n",
    "import string\n",
    "import re\n",
    "from piLang.piLang.SQLTools import SQLTools\n",
    "from prettytable import PrettyTable\n",
    "import time\n",
    "from piLang.piLang.TextSearch import ICD10TextSearch\n",
    "\n",
    "cnxn = pyodbc.connect('Driver={ODBC Driver 13 for SQL Server}; server=localhost\\SQLEXPRESS; database=ICD10; uid=Shane; password=; trusted_connection=Yes')\n",
    "cursor = cnxn.cursor()\n",
    "cursor.execute(\"SELECT [code_id] as code,[full_desc] as description FROM [ICD10].[dbo].[morph] WHERE inactive='' UNION SELECT [Code_id] as code,[ascii_desc] as description FROM [ICD10].[dbo].[interven] WHERE inactive = '' UNION SELECT [code_id] as code,[ascii_desc] as description FROM [ICD10].[dbo].[disease] WHERE inactive='' UNION SELECT [block] as code,[ascii_desc] as description FROM [ICD10].[dbo].[blocks] WHERE inactive = ''\")\n",
    "               \n",
    "t = SQLTools(cursor)\n",
    "cnxn.close()\n",
    "cnxn = None\n",
    "\n",
    "searchstr = list()\n",
    "\n",
    "\"\"\"\n",
    "searchstr.append(\"diabetes\")\n",
    "searchstr.append(\"Graves disease - Previously on PTU\")\n",
    "searchstr.append(\"BILATERAL SALPINGECTOMY\")\n",
    "searchstr.append(\"ITP - Platelet transfusion required if below 30\")\n",
    "searchstr.append(\"atrial septal defect has cardiologist input\")\n",
    "searchstr.append(\"white coat hypertension.  Seen by a cardiologist in 2010\")\n",
    "searchstr.append(\"nodules on the thyroid\")\n",
    "searchstr.append(\"Total Thyroidectomy for Goitre and nodules\")\n",
    "searchstr.append(\"meconium at birth then no bowel motion for 66hrs. Xray nad\")\n",
    "\"\"\"\n",
    "\n",
    "with open(\"C:\\\\Users\\Shane\\\\Desktop\\\\text.txt\", \"r\") as ins:\n",
    "    for line in ins:\n",
    "        searchstr.append(line.strip().replace(\"\\r\",\"\").replace(\",\",\"\"))\n",
    "\n",
    "t = ICD10TextSearch(t.rs)\n",
    "\n",
    "d=dict()\n",
    "pt = PrettyTable()\n",
    "x=0\n",
    "\n",
    "for s in searchstr:\n",
    "    d[x]=[s,t.match(s)]\n",
    "    x+=1\n",
    "\n",
    "pt.field_names = [\"Text\",\"Result\"]\n",
    "\n",
    "for i in d:\n",
    "    pt.add_row([f for f in d[i]])\n",
    "\n",
    "print(pt)            \n",
    "print(\"\\n** done **\")"
   ]
  },
  {
   "cell_type": "raw",
   "metadata": {},
   "source": [
    " \n",
    " "
   ]
  },
  {
   "cell_type": "code",
   "execution_count": null,
   "metadata": {},
   "outputs": [],
   "source": []
  },
  {
   "cell_type": "code",
   "execution_count": null,
   "metadata": {},
   "outputs": [],
   "source": []
  }
 ],
 "metadata": {
  "kernelspec": {
   "display_name": "Python 3",
   "language": "python",
   "name": "python3"
  },
  "language_info": {
   "codemirror_mode": {
    "name": "ipython",
    "version": 3
   },
   "file_extension": ".py",
   "mimetype": "text/x-python",
   "name": "python",
   "nbconvert_exporter": "python",
   "pygments_lexer": "ipython3",
   "version": "3.6.8"
  }
 },
 "nbformat": 4,
 "nbformat_minor": 2
}
