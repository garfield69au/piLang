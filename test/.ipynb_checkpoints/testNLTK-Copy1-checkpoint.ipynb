{
 "cells": [
  {
   "cell_type": "code",
   "execution_count": null,
   "metadata": {},
   "outputs": [
    {
     "name": "stdout",
     "output_type": "stream",
     "text": [
      "['fatigu', 'part', 'qualiti', 'consist', 'entri', 'collegau', 'system', 'use', 'use', 'perinat', 'collect', 'clunki', 'beast', 'collect', 'peopl', 'place', 'level', 'import', 'electron', 'captur', 'electron', 'guess', 'enter', 'enter', 'peopl', 'error', 'locat', 'peopl', 'error', 'requir', 'captur', 'inform', 'anticip', 'import', 'inform', 'realis', 'sometim', 'realis', 'state', 'document', 'woman', 'midwif', 'explicitli', 'seem', 'frequent', 'share', 'error', 'overcom', 'find', 'time', 'system', 'imposs', 'occas', 'requir', 'better/mor', 'accur', 'advis', 'chang', 'backlog', 'minim', 'resourc', 'system', 'easili', 'view', 'flag', 'woman', 'parent', 'support', 'way', 'system-', 'section', 'easili', 'view', 'know', 'document', 'verdi', 'system', 'document', 'time', 'delay', 'easili', 'continu', 'neonat', 'inform', 'parent', 'support', 'centr', 'care', 'age', 'support', 'commun', 'inform', 'queensland', 'children', 'time', 'work', 'load', 'time', 'handov', 'document', 'time', 'constraint', 'lack', 'support', 'team', 'understaf', 'time', 'restrict', 'miss', 'inform', 'time', 'resourc', 'willi', 'chang', 'differ', 'system', 'document', 'chang', 'process', 'time/workload', 'cultur', 'amount', 'differ', 'system', 'navig', 'time', 'process', 'time', 'multipl', 'peopl', 'involv', 'leader', 'inform', 'doubl', 'document', 'system', 'paper', 'electron', 'age', 'system', 'use', 'ineffect', 'avail', 'time', 'knowledg', 'skill', 'commun', 'patient', 'time', 'constraint', 'incomplet', 'inform', 'privat', 'manag', 'patient', 'mmh', 'poorli', 'note', 'captur', 'accur', 'entri', 'easi', 'fill', 'answer', 'realis', 'peopl', 'enter', 'factor', 'report', 'time', 'constraint', 'appropri', 'report', 'area', 'time', 'challeng', 'input', 'time', 'process', 'amend', 'time', 'entri', 'error', 'delay', 'enter', 'hand', 'patient', 'releas', 'dept', 'time', 'staf', 'tune', 'report', 'result', 'differ', 'collect', 'system', 'link', 'lack', 'time', 'staff', 'import', 'clinic', 'prioriti', 'time', 'time', 'individu', 'enter', 'inform', 'incorrectli', 'complet', 'medic', 'record', 'verdi', 'record', 'page', 'page', 'page', 'page', 'staff', 'inadequ', 'staf', 'level', 'time', 'constraint', 'acuiti', 'patient', 'agre', 'antenat', 'job', 'depart', 'patient', 'admit', 'respons', 'care', 'client', 'histori', 'sometim', 'ask', 'share', 'note', 'collect', 'visibl', 'verdi', 'access', 'discharg', 'time', 'assist', 'educ', 'set', 'prioritis', 'contemporan', 'note', 'consist', 'qualiti', 'multipl', 'repeat', 'locat', 'record', 'especi', 'birth', 'situat', 'time', 'train', 'knowledg', 'time', 'time', 'time', 'manag', 'access', 'accuraci', 'confidenti', 'integr', 'date', 'comput', 'program', 'support', 'prompt', 'system', 'complet', 'accur', 'input', 'incomplet', 'lack', 'complet', 'field', 'workload', 'impact', 'contemporan', 'complet', 'challeng', 'entri', 'inaccuraci', 'inconsist', 'unsur', 'unsur', 'staff', 'lack', 'knowledg', 'patient', 'registr', 'form', 'accuraci', 'reliabl', 'access', 'understand', 'work', 'year', 'son', 'letter', 'accuraci', 'enter', 'time', 'duti', 'lack', 'process', 'identifi', 'need', 'understand', 'date', 'import', 'differ', 'comput', 'system', 'redund', 'lack', 'integr', 'train', 'use', 'system', 'unsur', 'time', 'comput', 'avail', 'comput', 'programm', 'staff', 'document', 'thing', 'properli', 'challeng', 'busi', 'day', 'import', 'person', 'effort', 'ocd', 'fill', 'repurcuss', 'peopl', 'forms/programs/carepath', 'properli', 'request', 'collect', 'understand', 'qualiti', 'mater', 'access', 'lack', 'training/awar', 'time', 'review', 'time', 'type', 'place', 'meaningful', 'time', 'workload', 'access', 'agreement', 'process', 'commun', 'depart', 'system/resourc', 'capabl', 'unsur', 'time', 'staff', 'attitud', 'collect', 'know', 'system', 'system', 'system', 'system', 'inform', 'multipl', 'system', 'import', 'fix', 'system', 'time', 'resourc', 'unsur', 'complet', 'lack', 'point', 'patient', 'contact', 'patient', 'pac', 'ward', 'challeng', 'amount', 'time', 'entri', 'length', 'time', 'enter', 'relev', 'irrelev', 'question', 'enter', 'patient', 'histori', 'system', 'enter', 'inform', 'patient', 'portal', 'enter', 'avail', 'databas', 'patient', 'birth', 'suit', 'imposs', 'take', 'time', 'inform', 'access', 'time', 'restraint', 'enter', 'point', 'enter', 'incorrectli', 'insuffici', 'inform', 'provid', 'entri', 'pac', 'antenat', 'complet', 'continu', 'educ', 'chang', 'inform', 'breast', 'feed', 'problem', 'visibl', 'print', 'impact', 'patient', 'care', 'mani', 'improv', 'program', 'mani', 'occas', 'access', 'differ', 'system', 'number', 'place', 'place', 'lack', 'educ', 'import', 'lack', 'leadership', 'ensur', 'qualiti', 'strateg', 'goal', 'lack', 'tool', 'assist', 'qualiti', 'visibl', 'busi', 'lack', 'support', 'interest', 'staff', 'continu', 'lack', 'interest', 'educ', 'error', 'rate', 'system', 'time', 'date', 'storag', 'system', 'date', 'lack', 'train', 'time', 'constraint', 'paperwork', 'car', 'chart', 'becom', 'document', 'unsur']\n",
      "[(0, '0.623*\"time\" + 0.361*\"system\" + 0.230*\"lack\" + 0.213*\"inform\" + 0.197*\"patient\" + 0.197*\"enter\" + 0.131*\"document\" + 0.115*\"import\" + 0.115*\"access\" + 0.098*\"entri\" + 0.098*\"collect\" + 0.098*\"support\" + 0.098*\"staff\" + 0.098*\"peopl\" + 0.098*\"complet\" + 0.098*\"unsur\" + 0.082*\"error\" + 0.082*\"constraint\" + 0.082*\"qualiti\" + 0.082*\"process\"')]\n"
     ]
    }
   ],
   "source": [
    "import string\n",
    "import re\n",
    "from prettytable import PrettyTable\n",
    "import time\n",
    "from piLang.piLang.GenericTextSearch import GenericTextAnalysis\n",
    "%matplotlib notebook\n",
    "\n",
    "lines = []\n",
    "with open(\"C:\\\\Users\\\\shane\\\\Dev\\\\survey_text.txt\", 'r') as f:\n",
    "    lines.extend(line.rstrip('\\n') for line in f)\n",
    "\n",
    "t = GenericTextAnalysis()\n",
    "t.analyse(lines)\n",
    "\n",
    "print(\"\\n** done **\")"
   ]
  },
  {
   "cell_type": "raw",
   "metadata": {},
   "source": [
    " \n",
    " "
   ]
  },
  {
   "cell_type": "code",
   "execution_count": null,
   "metadata": {},
   "outputs": [],
   "source": []
  },
  {
   "cell_type": "code",
   "execution_count": null,
   "metadata": {},
   "outputs": [],
   "source": []
  }
 ],
 "metadata": {
  "kernelspec": {
   "display_name": "Python 3",
   "language": "python",
   "name": "python3"
  },
  "language_info": {
   "codemirror_mode": {
    "name": "ipython",
    "version": 3
   },
   "file_extension": ".py",
   "mimetype": "text/x-python",
   "name": "python",
   "nbconvert_exporter": "python",
   "pygments_lexer": "ipython3",
   "version": "3.6.8"
  }
 },
 "nbformat": 4,
 "nbformat_minor": 2
}
