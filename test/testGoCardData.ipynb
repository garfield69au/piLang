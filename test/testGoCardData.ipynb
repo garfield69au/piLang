{
 "cells": [
  {
   "cell_type": "code",
   "execution_count": 2,
   "metadata": {
    "scrolled": true
   },
   "outputs": [
    {
     "name": "stdout",
     "output_type": "stream",
     "text": [
      "Completed in 2.1474740505218506 secs\n"
     ]
    }
   ],
   "source": [
    "import time\n",
    "from pyLang.pyLang.langvalidator import LangValidator\n",
    "from pyLang.pyLang.langerror import ValidationError\n",
    "from pyLang.pyLang.patterns import Patterns\n",
    "from pyLang.pyLang.filetools import FileTools\n",
    "from pyLang.pyLang.boxplot import BoxPlot\n",
    "\n",
    "\n",
    "class testGoCardData(object):\n",
    "    \"\"\"\n",
    "    Below is our meta-data for the go card dataset. We can process it inline, but for this test we will load the metadata\n",
    "    from a json file.\n",
    "    \n",
    "    meta = { \n",
    "        'id':         {'Size': 4,  'Type': \"int\",    'Mandatory': True, 'Unique': True},\n",
    "        'status':     {'Size': 10, 'Type': \"string\", 'Mandatory': True },\n",
    "        'name':       {'Size': 70, 'Type': \"string\", 'Mandatory': True},\n",
    "        'address':    {'Size': 140, 'Type': \"date\",  'Mandatory': True},\n",
    "        'latitude':   {'Size': 10, 'Type': \"string\", 'Mandatory': True},\n",
    "        'longitude':  {'Size': 10, 'Type': \"string\", 'Mandatory': True},\n",
    "        'region1':    {'Size': 30, 'Type': \"string\", 'Mandatory': False, 'AllowBlank': True},\n",
    "        'type_id':    {'Size': 1,  'Type': \"int\",    'Mandatory': True},\n",
    "        'type_name':  {'Size': 20, 'Type': \"string\", 'Mandatory': True},\n",
    "        'notes':      {'Type': \"string\", 'Mandatory': False, 'AllowBlank': True},\n",
    "        'product1':   {'Size': 30, 'Type': \"string\", 'Mandatory': False, 'AllowBlank': True},\n",
    "        'product2':   {'Size': 30, 'Type': \"string\", 'Mandatory': False, 'AllowBlank': True},\n",
    "        'product3':   {'Size': 30, 'Type': \"string\", 'Mandatory': False, 'AllowBlank': True},\n",
    "        'service1':   {'Size': 30, 'Type': \"string\", 'Mandatory': False, 'AllowBlank': True},\n",
    "        'service2':   {'Size': 30, 'Type': \"string\", 'Mandatory': False, 'AllowBlank': True},\n",
    "        'service3':   {'Size': 30, 'Type': \"string\", 'Mandatory': False, 'AllowBlank': True},\n",
    "        'service4':   {'Size': 30, 'Type': \"string\", 'Mandatory': False, 'AllowBlank': True},\n",
    "        'service5':   {'Size': 30, 'Type': \"string\", 'Mandatory': False, 'AllowBlank': True},\n",
    "        'region2':    {'Size': 30, 'Type': \"string\", 'Mandatory': False, 'AllowBlank': True},\n",
    "        'region3':    {'Size': 30, 'Type': \"string\", 'Mandatory': False, 'AllowBlank': True}\n",
    "    }\n",
    "    \"\"\"\n",
    "    \n",
    "    try:\n",
    "        \n",
    "        stime = time.time()\n",
    "        meta = FileTools.JSONtoMeta(r'go_card_meta.json')\n",
    "        dataset = FileTools.csvFileToDict(r'go_card_retailers.csv')\n",
    "\n",
    "        lang_validator = LangValidator(dataset, meta)\n",
    "        lang_validator.validate()\n",
    "        lang_validator.saveCounters(\"go_card_counters.xlsx\")\n",
    "        lang_validator.saveProfile(\"go_card_profile.xlsx\")\n",
    "\n",
    "        x = BoxPlot()\n",
    "        x.plot(lang_validator.counters,\"<b>Go Card Retailer Data Quality Errors</b>\")\n",
    "        \n",
    "        print(\"Completed in \" + str(time.time() - stime) + \" secs\")\n",
    "\n",
    "    except ValidationError as e:\n",
    "        print (e)"
   ]
  },
  {
   "cell_type": "code",
   "execution_count": null,
   "metadata": {},
   "outputs": [],
   "source": []
  },
  {
   "cell_type": "code",
   "execution_count": null,
   "metadata": {},
   "outputs": [],
   "source": []
  },
  {
   "cell_type": "code",
   "execution_count": null,
   "metadata": {},
   "outputs": [],
   "source": []
  },
  {
   "cell_type": "code",
   "execution_count": null,
   "metadata": {},
   "outputs": [],
   "source": []
  }
 ],
 "metadata": {
  "kernelspec": {
   "display_name": "Python 3",
   "language": "python",
   "name": "python3"
  },
  "language_info": {
   "codemirror_mode": {
    "name": "ipython",
    "version": 3
   },
   "file_extension": ".py",
   "mimetype": "text/x-python",
   "name": "python",
   "nbconvert_exporter": "python",
   "pygments_lexer": "ipython3",
   "version": "3.7.7"
  }
 },
 "nbformat": 4,
 "nbformat_minor": 2
}
