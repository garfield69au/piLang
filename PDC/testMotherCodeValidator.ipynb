{
 "cells": [
  {
   "cell_type": "code",
   "execution_count": 2,
   "metadata": {
    "scrolled": true
   },
   "outputs": [
    {
     "name": "stdout",
     "output_type": "stream",
     "text": [
      "Started...\n",
      "Completed in 0.011974811553955078 secs\n",
      "Error: Mandatory field 'Mothers UR number' is BLANK or NULL. A value is required.\n",
      "Error: Field 'Mothers UR number' with value '6297266' is not UNIQUE\n",
      "Error: Field 'Mothers UR number' with value '6297266' is not UNIQUE\n",
      "Error: Field 'Mothers UR number' with value '6297266' is not UNIQUE\n",
      "Error: Field 'Mothers UR number' with value '6297266' is not UNIQUE\n",
      "Error: Field 'Mothers UR number' with value '6297405' is not UNIQUE\n",
      "Error: Field 'Mothers UR number' with value '6297405' is not UNIQUE\n",
      "Error: Field 'Mothers UR number' with value '6297405' is not UNIQUE\n",
      "Error: Field 'Mothers UR number' with value '6297405' is not UNIQUE\n",
      "Error: Field 'Code Type' with value '1' is outside the range of: ['C', 'T', 'M', 'P', 'O', 'L', 'A', 'E']\n",
      "Error: Field 'Code Type' with value '3' is outside the range of: ['C', 'T', 'M', 'P', 'O', 'L', 'A', 'E']\n",
      "\n",
      "+---------------------+----------------+----------------------------------+------------+------+---------+\n",
      "|      attribute      | attributeCount |          errorCategory           | errorCount | Mean | Percent |\n",
      "+---------------------+----------------+----------------------------------+------------+------+---------+\n",
      "|   Transaction Type  |       9        | Completeness of Mandatory fields |     0      | -1.0 |   0.0   |\n",
      "|   Transaction Type  |       9        |   Meta Compliance (field size)   |     0      | -1.0 |   0.0   |\n",
      "|   Transaction Type  |       9        |   Meta Compliance (data type)    |     0      | -1.0 |   0.0   |\n",
      "|   Transaction Type  |       9        |  Meta Compliance (value range)   |     0      | -1.0 |   0.0   |\n",
      "|  Mothers UR number  |       10       | Completeness of Mandatory fields |     1      | 10.0 |   10.0  |\n",
      "|  Mothers UR number  |       10       |   Meta Compliance (field size)   |     0      | -1.0 |   0.0   |\n",
      "|  Mothers UR number  |       10       |   Meta Compliance (data type)    |     0      | -1.0 |   0.0   |\n",
      "|  Mothers UR number  |       10       |            Uniqueness            |     8      | 1.25 |   80.0  |\n",
      "| Date of confinement |       10       | Completeness of Mandatory fields |     0      | -1.0 |   0.0   |\n",
      "| Date of confinement |       10       |   Meta Compliance (field size)   |     0      | -1.0 |   0.0   |\n",
      "| Date of confinement |       10       |   Meta Compliance (data type)    |     0      | -1.0 |   0.0   |\n",
      "| Date of confinement |       10       |        Format Consistency        |     0      | -1.0 |   0.0   |\n",
      "|      Code Type      |       10       | Completeness of Mandatory fields |     0      | -1.0 |   0.0   |\n",
      "|      Code Type      |       10       |   Meta Compliance (field size)   |     0      | -1.0 |   0.0   |\n",
      "|      Code Type      |       10       |   Meta Compliance (data type)    |     0      | -1.0 |   0.0   |\n",
      "|      Code Type      |       10       |  Meta Compliance (value range)   |     2      | 5.0  |   20.0  |\n",
      "|     Mothers code    |       10       | Completeness of Optional fields  |     0      | -1.0 |   0.0   |\n",
      "|     Mothers code    |       10       |   Meta Compliance (field size)   |     0      | -1.0 |   0.0   |\n",
      "|     Mothers code    |       10       |   Meta Compliance (data type)    |     0      | -1.0 |   0.0   |\n",
      "+---------------------+----------------+----------------------------------+------------+------+---------+\n"
     ]
    }
   ],
   "source": [
    "from LangValidator import LangValidator, PatternFormat\n",
    "from LangError import ValidationError\n",
    "import time\n",
    "\n",
    "class TestMotherCodeValidator(object):\n",
    "    meta = { \n",
    "        'Transaction Type':    {'Size': 1,   'Type': \"string\",     'Mandatory': True,  'Enum': ['N','A','D']},\n",
    "        'Mothers UR number':   {'Size': 12,  'Type': \"string\",   'Mandatory': True,  'Unique': True},\n",
    "        'Date of confinement': {'Size': 10,  'Type': \"date\",     'Mandatory': True,  'Format': PatternFormat.DATE_YYMMDD.value},\n",
    "        'Code Type':           {'Size': 1,   'Type': \"char\",     'Mandatory': True,  'Enum':['C', 'T', 'M', 'P', 'O', 'L', 'A', 'E']},\n",
    "        'Mothers code':        {'Size': 7,   'Type': \"string\",   'Mandatory': False, 'AllowBlank': True}   \n",
    "    }\n",
    "    \n",
    "    \n",
    "    data = {\n",
    "        1: {'Transaction Type': 'N', 'Mothers UR number': '', 'Date of confinement': '24/01/2019', 'Code Type': 'A', 'Mothers code': '03', 'facility_id': '370.0', 'load_id': '5569B7B7-104A-4E98-9789-B693332433D7'}, \n",
    "        2: {'Transaction Type': 'N', 'Mothers UR number': '6297266', 'Date of confinement': '28/01/2019', 'Code Type': '1', 'Mothers code': '04', 'facility_id': '318.0', 'load_id': '5569B7B7-104A-4E98-9789-B693332433D7'}, \n",
    "        3: {'Transaction Type': 'N', 'Mothers UR number': '6297266', 'Date of confinement': '28/01/1019', 'Code Type': '3', 'Mothers code': 'O469', 'facility_id': '318.0', 'load_id': '5569B7B7-104A-4E98-9789-B693332433D7'}, \n",
    "        4: {'Transaction Type': 'N', 'Mothers UR number': '6297266', 'Date of confinement': '28/01/2019', 'Code Type': 'P', 'Mothers code': 'O321', 'facility_id': '318.0', 'load_id': '5569B7B7-104A-4E98-9789-B693332433D7'}, \n",
    "        5: {'Transaction Type': 'N', 'Mothers UR number': '6297266', 'Date of confinement': '28/01/2029', 'Code Type': 'A', 'Mothers code': '03', 'facility_id': '318.0', 'load_id': '5569B7B7-104A-4E98-9789-B693332433D7'}, \n",
    "        6: {'Transaction Type': 'N', 'Mothers UR number': '6297405', 'Date of confinement': '28/01/2019', 'Code Type': 'T', 'Mothers code': 'O470', 'facility_id': '318.0', 'load_id': '5569B7B7-104A-4E98-9789-B693332433D7'}, \n",
    "        7: {'Transaction Type': 'N', 'Mothers UR number': '6297405', 'Date of confinement': '28/01/2019', 'Code Type': 'O', 'Mothers code': '3057200', 'facility_id': '318.0', 'load_id': '5569B7B7-104A-4E98-9789-B693332433D7'}, \n",
    "        8: {'Transaction Type': 'N', 'Mothers UR number': '6297405', 'Date of confinement': '28/01/2019', 'Code Type': 'O', 'Mothers code': '9619919', 'facility_id': '318.0', 'load_id': '5569B7B7-104A-4E98-9789-B693332433D7'}, \n",
    "        9: {'Transaction Type': 'N', 'Mothers UR number': '6297405', 'Date of confinement': '28/01/2019', 'Code Type': 'A', 'Mothers code': '03', 'facility_id': '318.0', 'load_id': '5569B7B7-104A-4E98-9789-B693332433D7'}, \n",
    "        10: { 'Mothers UR number': '6298725', 'Date of confinement': '17/01/2019', 'Code Type': 'L', 'Mothers code': '10', 'facility_id': '3.0', 'load_id': '5569B7B7-104A-4E98-9789-B693332433D7'}\n",
    "    }\n",
    "    \n",
    "    \n",
    "    try:\n",
    "        \n",
    "        stime = time.time()\n",
    "        print(\"Started...\")\n",
    "        lang_validator = LangValidator(data, meta)\n",
    "        lang_validator.validate()\n",
    "        lang_validator.counters.calcMean()\n",
    "        lang_validator.counters.calcPercent()\n",
    "        print(\"Completed in \" + str(time.time() - stime) + \" secs\")\n",
    "        print(lang_validator.getErrors())\n",
    "        print(lang_validator.counters)\n",
    "        \n",
    "        #if (lang_validator.hasErrors()): raise ValidationError(\"LANG Exception: \",lang_validator.getErrors())\n",
    "\n",
    "    except ValidationError as e:\n",
    "        print (e)"
   ]
  },
  {
   "cell_type": "code",
   "execution_count": null,
   "metadata": {},
   "outputs": [],
   "source": []
  },
  {
   "cell_type": "code",
   "execution_count": null,
   "metadata": {},
   "outputs": [],
   "source": []
  },
  {
   "cell_type": "code",
   "execution_count": null,
   "metadata": {},
   "outputs": [],
   "source": []
  },
  {
   "cell_type": "code",
   "execution_count": null,
   "metadata": {},
   "outputs": [],
   "source": []
  }
 ],
 "metadata": {
  "kernelspec": {
   "display_name": "Python 3",
   "language": "python",
   "name": "python3"
  },
  "language_info": {
   "codemirror_mode": {
    "name": "ipython",
    "version": 3
   },
   "file_extension": ".py",
   "mimetype": "text/x-python",
   "name": "python",
   "nbconvert_exporter": "python",
   "pygments_lexer": "ipython3",
   "version": "3.6.4"
  }
 },
 "nbformat": 4,
 "nbformat_minor": 2
}
