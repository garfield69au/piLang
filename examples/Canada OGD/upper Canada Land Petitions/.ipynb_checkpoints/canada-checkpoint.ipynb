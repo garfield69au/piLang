{
 "cells": [
  {
   "cell_type": "code",
   "execution_count": 1,
   "metadata": {
    "scrolled": true
   },
   "outputs": [
    {
     "name": "stdout",
     "output_type": "stream",
     "text": [
      "    Completed in 1922.0664908885956 secs\n"
     ]
    }
   ],
   "source": [
    "import time\n",
    "from pyduq.duqvalidator import DUQValidator\n",
    "from pyduq.langerror import ValidationError\n",
    "from pyduq.patterns import Patterns\n",
    "from pyduq.filetools import FileTools\n",
    "from pyduq.boxplot import BoxPlot\n",
    "\n",
    "\n",
    "class testCanadaData(object):\n",
    "    \n",
    "    try:\n",
    "        \n",
    "        stime = time.time()\n",
    "        prun meta = FileTools.JSONtoMeta(r'upper Canada Land Petitions.json')\n",
    "        prun dataset = FileTools.csvFileToDict(r'upper Canada Land Petitions.csv')\n",
    "\n",
    "        prun lang_validator = DUQValidator(dataset, meta)\n",
    "        prun lang_validator.validate()\n",
    "        lang_validator.saveCounters(\"upper Canada Land Petitions_counters.xlsx\")\n",
    "        lang_validator.saveProfile(\"upper Canada Land Petitions_profile.xlsx\")\n",
    "\n",
    "        x = BoxPlot()\n",
    "        x.plot(lang_validator.counters,\"<b>Canadian Land Petition Data Quality Errors</b>\")\n",
    "        \n",
    "        print(\"Completed in \" + str(time.time() - stime) + \" secs\")\n",
    "\n",
    "    except ValidationError as e:\n",
    "        print (e)"
   ]
  },
  {
   "cell_type": "code",
   "execution_count": null,
   "metadata": {},
   "outputs": [],
   "source": []
  },
  {
   "cell_type": "code",
   "execution_count": null,
   "metadata": {},
   "outputs": [],
   "source": []
  },
  {
   "cell_type": "code",
   "execution_count": null,
   "metadata": {},
   "outputs": [],
   "source": []
  },
  {
   "cell_type": "code",
   "execution_count": null,
   "metadata": {},
   "outputs": [],
   "source": []
  }
 ],
 "metadata": {
  "kernelspec": {
   "display_name": "Python 3",
   "language": "python",
   "name": "python3"
  },
  "language_info": {
   "codemirror_mode": {
    "name": "ipython",
    "version": 3
   },
   "file_extension": ".py",
   "mimetype": "text/x-python",
   "name": "python",
   "nbconvert_exporter": "python",
   "pygments_lexer": "ipython3",
   "version": "3.7.7"
  }
 },
 "nbformat": 4,
 "nbformat_minor": 2
}
