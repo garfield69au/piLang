{
 "cells": [
  {
   "cell_type": "code",
   "execution_count": 3,
   "metadata": {
    "scrolled": true
   },
   "outputs": [
    {
     "name": "stdout",
     "output_type": "stream",
     "text": [
      "[]\n",
      "Completed in 76.36834859848022 secs\n"
     ]
    }
   ],
   "source": [
    "import time\n",
    "from pyduq.duqvalidator import DUQValidator\n",
    "from pyduq.langerror import ValidationError\n",
    "from pyduq.patterns import Patterns\n",
    "from pyduq.filetools import FileTools\n",
    "from pyduq.boxplot import BoxPlot\n",
    "\n",
    "\n",
    "class testPostSecondaryStudents(object):\n",
    "    \n",
    "    try:\n",
    "        stime = time.time()\n",
    "        meta = FileTools.JSONtoMeta(r'2011-12 Postsecondary Student Information .json')\n",
    "        dataset = FileTools.csvFileToDict(r'2011-12 Postsecondary Student Information .csv')\n",
    "\n",
    "        lang_validator = DUQValidator(dataset, meta)\n",
    "        lang_validator.validate()\n",
    "        lang_validator.saveCounters(\"counters.xlsx\")\n",
    "        lang_validator.saveProfile(\"profile.xlsx\")\n",
    "\n",
    "        print(lang_validator.counters)\n",
    "        x = BoxPlot()\n",
    "        #x.plot(lang_validator.counters,\"<b>Post Secondary Students Data Quality Errors</b>\")\n",
    "        \n",
    "        print(\"Completed in \" + str(time.time() - stime) + \" secs\")\n",
    "\n",
    "    except ValidationError as e:\n",
    "        print (e)"
   ]
  },
  {
   "cell_type": "code",
   "execution_count": null,
   "metadata": {},
   "outputs": [],
   "source": []
  },
  {
   "cell_type": "code",
   "execution_count": null,
   "metadata": {},
   "outputs": [],
   "source": []
  },
  {
   "cell_type": "code",
   "execution_count": null,
   "metadata": {},
   "outputs": [],
   "source": []
  },
  {
   "cell_type": "code",
   "execution_count": null,
   "metadata": {},
   "outputs": [],
   "source": []
  }
 ],
 "metadata": {
  "kernelspec": {
   "display_name": "Python 3",
   "language": "python",
   "name": "python3"
  },
  "language_info": {
   "codemirror_mode": {
    "name": "ipython",
    "version": 3
   },
   "file_extension": ".py",
   "mimetype": "text/x-python",
   "name": "python",
   "nbconvert_exporter": "python",
   "pygments_lexer": "ipython3",
   "version": "3.7.7"
  }
 },
 "nbformat": 4,
 "nbformat_minor": 2
}
